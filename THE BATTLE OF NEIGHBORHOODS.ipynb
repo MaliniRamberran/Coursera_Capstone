{
 "cells": [
  {
   "cell_type": "markdown",
   "metadata": {},
   "source": [
    "# CAPSTONE PROJECT\n",
    "\n",
    "## THE BATTLE OF NEIGHBORHOODS\n",
    "\n",
    "### BEST NEIGHBORHOOD TO OPEN A ITALIAN RESTAURANT IN NEW YORK"
   ]
  },
  {
   "cell_type": "markdown",
   "metadata": {},
   "source": [
    "**DESCRIPTION OF THE PROBLEM**\n",
    "\n",
    "The objective is to find the best neighbourhood in New York to open a Italian restaurant using Foursquare.\n",
    "\n",
    "Italian restaurant owners who are considering extending their business or investors who are seeking to open a Italian restaurant will be interested since it will allow them to strategically open their business in a location where the number of Italian restaurant is low giving abundant access to customers that will play a significant role in the restaurant's profit and overall success."
   ]
  },
  {
   "cell_type": "markdown",
   "metadata": {},
   "source": [
    "**DESCRIPTION OF THE DATA AND HOW IT WILL BE USED TO SOLVE THE PROBLEM**\n",
    "\n",
    "1. In this project we will use data from the website https://en.wikipedia.org/wiki/List_of_postal_codes_of_Canada:_M. Data such as Postal Code, Boroughs, Neighborhood will be scrapped.\n",
    "\n",
    "\n",
    "2. Geocoder Package,https://cocl.us/Geospatial_data, will provide Latitude and Longitude Coordinates of neighbourhoods in New York with their Postal Code.\n",
    "\n",
    "\n",
    "3. Use Foursquare API, https://foursquare.com/developers/apps, to get venue data such as type of restaurants and number of restaurants of particular type that will explore and segmented."
   ]
  }
 ],
 "metadata": {
  "kernelspec": {
   "display_name": "Python 3",
   "language": "python",
   "name": "python3"
  },
  "language_info": {
   "codemirror_mode": {
    "name": "ipython",
    "version": 3
   },
   "file_extension": ".py",
   "mimetype": "text/x-python",
   "name": "python",
   "nbconvert_exporter": "python",
   "pygments_lexer": "ipython3",
   "version": "3.8.5"
  }
 },
 "nbformat": 4,
 "nbformat_minor": 4
}
